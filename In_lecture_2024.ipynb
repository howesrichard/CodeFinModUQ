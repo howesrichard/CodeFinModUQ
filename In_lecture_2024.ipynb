{
 "cells": [
  {
   "cell_type": "markdown",
   "metadata": {},
   "source": [
    "Tasks for demo in lecture\n",
    "\n",
    "Demo CoPilot\n",
    "- use the chat window\n",
    "- generate random numbers\n",
    "- create dataframe to contain the random numbers\n",
    "- look at the dataframe with data wrangler ... use to demonstrate extensions\n",
    "- call random joke api and reformat response\n",
    "- call weather API\n",
    "- use yfinance library to get daily price history\n",
    "- use the News API to get current stories for a stock\n"
   ]
  },
  {
   "cell_type": "code",
   "execution_count": 1,
   "metadata": {},
   "outputs": [
    {
     "name": "stdout",
     "output_type": "stream",
     "text": [
      "[100, 55, 81, 93, 6, 82, 70, 33, 61, 71, 100, 24, 86, 14, 26, 23, 34, 73, 40, 69]\n"
     ]
    }
   ],
   "source": [
    "# generate a list of 10 random numbers between 1 and 100 without using a function\n",
    "import random\n",
    "random_numbers = []\n",
    "for i in range(20):\n",
    "    random_numbers.append(random.randint(1, 100))\n",
    "print(random_numbers)"
   ]
  },
  {
   "cell_type": "code",
   "execution_count": 6,
   "metadata": {},
   "outputs": [
    {
     "name": "stdout",
     "output_type": "stream",
     "text": [
      "   Random Numbers\n",
      "0              27\n",
      "1              94\n",
      "2               2\n",
      "3              20\n",
      "4              11\n",
      "5              27\n",
      "6              43\n",
      "7              21\n",
      "8              91\n",
      "9              36\n"
     ]
    }
   ],
   "source": [
    "# put the random numbers into a pandas data frame\n",
    "import pandas as pd\n",
    "df = pd.DataFrame(random_numbers, columns=['Random Numbers'])\n",
    "print(df)"
   ]
  },
  {
   "cell_type": "code",
   "execution_count": 8,
   "metadata": {},
   "outputs": [
    {
     "name": "stdout",
     "output_type": "stream",
     "text": [
      "What did one wall say to the other wall?\n",
      "I'll meet you at the corner!\n"
     ]
    }
   ],
   "source": [
    "# use the official-joke-api to get a random joke\n",
    "import requests\n",
    "url = 'https://official-joke-api.appspot.com/random_joke'\n",
    "response = requests.get(url)\n",
    "joke = response.json()\n",
    "print(joke['setup'])\n",
    "print(joke['punchline'])\n"
   ]
  },
  {
   "cell_type": "code",
   "execution_count": 10,
   "metadata": {},
   "outputs": [
    {
     "name": "stdout",
     "output_type": "stream",
     "text": [
      "{'reason': \"Data corrupted at path ''. Cannot initialize ForecastVariableDaily from invalid String value 5.\", 'error': True}\n"
     ]
    }
   ],
   "source": [
    "# use the api.open-meteo.com to get the current weather for a user provided latitude and longitude\n",
    "latitude = input('Enter a latitude: ')\n",
    "longitude = input('Enter a longitude: ')\n",
    "url = f'https://api.open-meteo.com/v1/forecast?latitude={latitude}&longitude={longitude}&daily=5'\n",
    "response = requests.get(url)\n",
    "weather = response.json()\n",
    "print(weather)"
   ]
  },
  {
   "cell_type": "code",
   "execution_count": 11,
   "metadata": {},
   "outputs": [
    {
     "name": "stdout",
     "output_type": "stream",
     "text": [
      "                                 Open        High         Low       Close  \\\n",
      "Date                                                                        \n",
      "2023-10-12 00:00:00-04:00  179.153252  181.411684  178.128482  179.789993   \n",
      "2023-10-13 00:00:00-04:00  180.496392  181.003790  177.233092  177.939484   \n",
      "2023-10-16 00:00:00-04:00  175.850148  178.168287  175.611364  177.810120   \n",
      "2023-10-17 00:00:00-04:00  175.750669  177.511662  173.910096  176.248123   \n",
      "2023-10-18 00:00:00-04:00  174.686123  176.675941  174.218514  174.944794   \n",
      "...                               ...         ...         ...         ...   \n",
      "2024-10-07 00:00:00-04:00  224.500000  225.690002  221.330002  221.690002   \n",
      "2024-10-08 00:00:00-04:00  224.300003  225.979996  223.250000  225.770004   \n",
      "2024-10-09 00:00:00-04:00  225.229996  229.750000  224.830002  229.539993   \n",
      "2024-10-10 00:00:00-04:00  227.779999  229.500000  227.169998  229.039993   \n",
      "2024-10-11 00:00:00-04:00  229.300003  229.410004  227.339996  227.550003   \n",
      "\n",
      "                             Volume  Dividends  Stock Splits  \n",
      "Date                                                          \n",
      "2023-10-12 00:00:00-04:00  56743100        0.0           0.0  \n",
      "2023-10-13 00:00:00-04:00  51427100        0.0           0.0  \n",
      "2023-10-16 00:00:00-04:00  52517000        0.0           0.0  \n",
      "2023-10-17 00:00:00-04:00  57549400        0.0           0.0  \n",
      "2023-10-18 00:00:00-04:00  54764400        0.0           0.0  \n",
      "...                             ...        ...           ...  \n",
      "2024-10-07 00:00:00-04:00  39505400        0.0           0.0  \n",
      "2024-10-08 00:00:00-04:00  31855700        0.0           0.0  \n",
      "2024-10-09 00:00:00-04:00  33591100        0.0           0.0  \n",
      "2024-10-10 00:00:00-04:00  28183500        0.0           0.0  \n",
      "2024-10-11 00:00:00-04:00  31668000        0.0           0.0  \n",
      "\n",
      "[252 rows x 7 columns]\n"
     ]
    }
   ],
   "source": [
    "# Use the yfinance library to get the daily price history of AAPL for the last year\n",
    "import yfinance as yf\n",
    "aapl = yf.Ticker('AAPL')\n",
    "aapl_history = aapl.history(period='1y')\n",
    "print(aapl_history)\n"
   ]
  }
 ],
 "metadata": {
  "kernelspec": {
   "display_name": "Python 3",
   "language": "python",
   "name": "python3"
  },
  "language_info": {
   "codemirror_mode": {
    "name": "ipython",
    "version": 3
   },
   "file_extension": ".py",
   "mimetype": "text/x-python",
   "name": "python",
   "nbconvert_exporter": "python",
   "pygments_lexer": "ipython3",
   "version": "3.10.11"
  }
 },
 "nbformat": 4,
 "nbformat_minor": 2
}
