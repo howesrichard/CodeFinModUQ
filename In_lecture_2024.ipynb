{
 "cells": [
  {
   "cell_type": "markdown",
   "metadata": {},
   "source": [
    "Tasks for demo in lecture\n",
    "\n",
    "Demo CoPilot\n",
    "- use the chat window\n",
    "- generate random numbers\n",
    "- create dataframe to contain the random numbers\n",
    "- look at the dataframe with data wrangler ... use to demonstrate extensions\n",
    "- call random joke api and reformat response\n",
    "- call weather API\n",
    "- use yfinance library to get daily price history\n",
    "- use the News API to get current stories for a stock\n"
   ]
  },
  {
   "cell_type": "code",
   "execution_count": 2,
   "metadata": {},
   "outputs": [
    {
     "name": "stdout",
     "output_type": "stream",
     "text": [
      "[52, 18, 11, 50, 72, 72, 4, 78, 36, 1, 68, 45, 39, 61, 80, 89, 48, 80, 25, 95]\n"
     ]
    }
   ],
   "source": [
    "# generate a list of 10 random numbers between 1 and 100 without using a function\n",
    "import random\n",
    "random_numbers = []\n",
    "for i in range(20):\n",
    "    random_numbers.append(random.randint(1, 100))\n",
    "print(random_numbers)"
   ]
  },
  {
   "cell_type": "code",
   "execution_count": 3,
   "metadata": {},
   "outputs": [
    {
     "name": "stdout",
     "output_type": "stream",
     "text": [
      "    Random Numbers\n",
      "0               52\n",
      "1               18\n",
      "2               11\n",
      "3               50\n",
      "4               72\n",
      "5               72\n",
      "6                4\n",
      "7               78\n",
      "8               36\n",
      "9                1\n",
      "10              68\n",
      "11              45\n",
      "12              39\n",
      "13              61\n",
      "14              80\n",
      "15              89\n",
      "16              48\n",
      "17              80\n",
      "18              25\n",
      "19              95\n"
     ]
    }
   ],
   "source": [
    "# put the random numbers into a pandas data frame\n",
    "import pandas as pd\n",
    "df = pd.DataFrame(random_numbers, columns=['Random Numbers'])\n",
    "print(df)"
   ]
  },
  {
   "cell_type": "code",
   "execution_count": 4,
   "metadata": {},
   "outputs": [
    {
     "name": "stdout",
     "output_type": "stream",
     "text": [
      "Why do valley girls hang out in odd numbered groups?\n",
      "Because they can't even.\n"
     ]
    }
   ],
   "source": [
    "# use the official-joke-api to get a random joke\n",
    "import requests\n",
    "url = 'https://official-joke-api.appspot.com/random_joke'\n",
    "response = requests.get(url)\n",
    "joke = response.json()\n",
    "print(joke['setup'])\n",
    "print(joke['punchline'])\n"
   ]
  },
  {
   "cell_type": "code",
   "execution_count": 5,
   "metadata": {},
   "outputs": [
    {
     "name": "stdout",
     "output_type": "stream",
     "text": [
      "{'reason': \"Data corrupted at path ''. Cannot initialize ForecastVariableDaily from invalid String value 5.\", 'error': True}\n"
     ]
    }
   ],
   "source": [
    "# use the api.open-meteo.com to get the current weather for a user provided latitude and longitude\n",
    "latitude = input('Enter a latitude: ')\n",
    "longitude = input('Enter a longitude: ')\n",
    "url = f'https://api.open-meteo.com/v1/forecast?latitude={latitude}&longitude={longitude}&daily=5'\n",
    "response = requests.get(url)\n",
    "weather = response.json()\n",
    "print(weather)"
   ]
  },
  {
   "cell_type": "code",
   "execution_count": 7,
   "metadata": {},
   "outputs": [
    {
     "name": "stdout",
     "output_type": "stream",
     "text": [
      "                                 Open        High         Low       Close  \\\n",
      "Date                                                                        \n",
      "2024-01-03 00:00:00-05:00  183.321908  184.973819  182.535751  183.351761   \n",
      "2024-01-04 00:00:00-05:00  181.261983  182.197403  179.998185  181.023163   \n",
      "2024-01-05 00:00:00-05:00  181.102786  181.869022  179.291652  180.296722   \n",
      "2024-01-08 00:00:00-05:00  181.202281  184.695178  180.615161  184.655365   \n",
      "2024-01-09 00:00:00-05:00  183.023358  184.247357  181.839157  184.237411   \n",
      "...                               ...         ...         ...         ...   \n",
      "2024-12-26 00:00:00-05:00  258.190002  260.100006  257.630005  259.019989   \n",
      "2024-12-27 00:00:00-05:00  257.829987  258.700012  253.059998  255.589996   \n",
      "2024-12-30 00:00:00-05:00  252.229996  253.500000  250.750000  252.199997   \n",
      "2024-12-31 00:00:00-05:00  252.440002  253.279999  249.429993  250.419998   \n",
      "2025-01-02 00:00:00-05:00  248.929993  249.100006  241.820007  243.850006   \n",
      "\n",
      "                             Volume  Dividends  Stock Splits  \n",
      "Date                                                          \n",
      "2024-01-03 00:00:00-05:00  58414500        0.0           0.0  \n",
      "2024-01-04 00:00:00-05:00  71983600        0.0           0.0  \n",
      "2024-01-05 00:00:00-05:00  62303300        0.0           0.0  \n",
      "2024-01-08 00:00:00-05:00  59144500        0.0           0.0  \n",
      "2024-01-09 00:00:00-05:00  42841800        0.0           0.0  \n",
      "...                             ...        ...           ...  \n",
      "2024-12-26 00:00:00-05:00  27237100        0.0           0.0  \n",
      "2024-12-27 00:00:00-05:00  42355300        0.0           0.0  \n",
      "2024-12-30 00:00:00-05:00  35557500        0.0           0.0  \n",
      "2024-12-31 00:00:00-05:00  39480700        0.0           0.0  \n",
      "2025-01-02 00:00:00-05:00  55558000        0.0           0.0  \n",
      "\n",
      "[252 rows x 7 columns]\n"
     ]
    }
   ],
   "source": [
    "# Use the yfinance library to get the daily price history of AAPL for the last year\n",
    "import yfinance as yf\n",
    "aapl = yf.Ticker('AAPL')\n",
    "aapl_history = aapl.history(period='1y')\n",
    "print(aapl_history)\n"
   ]
  }
 ],
 "metadata": {
  "kernelspec": {
   "display_name": "Python 3",
   "language": "python",
   "name": "python3"
  },
  "language_info": {
   "codemirror_mode": {
    "name": "ipython",
    "version": 3
   },
   "file_extension": ".py",
   "mimetype": "text/x-python",
   "name": "python",
   "nbconvert_exporter": "python",
   "pygments_lexer": "ipython3",
   "version": "3.12.1"
  }
 },
 "nbformat": 4,
 "nbformat_minor": 2
}
