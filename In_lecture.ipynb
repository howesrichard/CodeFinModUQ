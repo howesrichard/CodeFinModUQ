{
 "cells": [
  {
   "cell_type": "code",
   "execution_count": 4,
   "metadata": {},
   "outputs": [
    {
     "name": "stdout",
     "output_type": "stream",
     "text": [
      "   Numbers\n",
      "0        6\n",
      "1       56\n",
      "2       94\n",
      "3       52\n",
      "4       53\n",
      "5       45\n",
      "6       85\n",
      "7       17\n"
     ]
    }
   ],
   "source": [
    "import pandas as pd\n",
    "import random\n",
    "\n",
    "# Create a list of 8 random numbers\n",
    "numbers = [random.randint(1, 100) for i in range(8)]\n",
    "\n",
    "# Create a pandas DataFrame from the list of numbers\n",
    "df = pd.DataFrame({'Numbers': numbers})\n",
    "\n",
    "# Print the DataFrame\n",
    "print(df)"
   ]
  },
  {
   "cell_type": "code",
   "execution_count": 7,
   "metadata": {},
   "outputs": [
    {
     "name": "stdout",
     "output_type": "stream",
     "text": [
      "     Numbers\n",
      "0         48\n",
      "1         39\n",
      "2        100\n",
      "3         72\n",
      "4         36\n",
      "..       ...\n",
      "163       50\n",
      "164       81\n",
      "165       27\n",
      "166       17\n",
      "167       14\n",
      "\n",
      "[168 rows x 1 columns]\n"
     ]
    }
   ],
   "source": [
    "import pandas as pd\n",
    "import random\n",
    "\n",
    "def create_random_dataframe(n):\n",
    "    # Create a list of n random numbers\n",
    "    numbers = [random.randint(1, 100) for i in range(n)]\n",
    "\n",
    "    # Create a pandas DataFrame from the list of numbers\n",
    "    df = pd.DataFrame({'Numbers': numbers})\n",
    "\n",
    "    # Return the DataFrame\n",
    "    return df\n",
    "\n",
    "df = create_random_dataframe(168)\n",
    "print(df)\n"
   ]
  }
 ],
 "metadata": {
  "kernelspec": {
   "display_name": "Python 3",
   "language": "python",
   "name": "python3"
  },
  "language_info": {
   "codemirror_mode": {
    "name": "ipython",
    "version": 3
   },
   "file_extension": ".py",
   "mimetype": "text/x-python",
   "name": "python",
   "nbconvert_exporter": "python",
   "pygments_lexer": "ipython3",
   "version": "3.10.11"
  }
 },
 "nbformat": 4,
 "nbformat_minor": 2
}
